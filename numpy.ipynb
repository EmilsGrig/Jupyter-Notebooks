{
 "cells": [
  {
   "cell_type": "code",
   "execution_count": 2,
   "metadata": {},
   "outputs": [],
   "source": [
    "import numpy as np"
   ]
  },
  {
   "cell_type": "markdown",
   "metadata": {},
   "source": [
    "Imports the numpy module.\n",
    "\n",
    "In the code, below there is a small comparison between the NumPy array and the standard python list. Both lists work similar to each other."
   ]
  },
  {
   "cell_type": "code",
   "execution_count": 5,
   "metadata": {},
   "outputs": [
    {
     "name": "stdout",
     "output_type": "stream",
     "text": [
      "--- NumPy Array ---\n",
      "[1 2 3 4 5]\n",
      "<class 'numpy.ndarray'>\n",
      "2\n",
      "[2 3 4 5]\n",
      "[1 2 3] \n",
      "\n",
      "--- Standard Array ---\n",
      "[1, 2, 3, 4, 5]\n",
      "<class 'list'>\n",
      "2\n",
      "[2, 3, 4, 5]\n",
      "[1, 2, 3]\n"
     ]
    }
   ],
   "source": [
    "a = np.array([1,2,3,4,5])\n",
    "print(\"--- NumPy Array ---\")\n",
    "print(a)\n",
    "print(type(a))\n",
    "print(a[1])\n",
    "print(a[1:])\n",
    "print(a[:-2], \"\\n\")\n",
    "\n",
    "b = [1,2,3,4,5,]\n",
    "print(\"--- Standard Array ---\")\n",
    "print(b)\n",
    "print(type(b))\n",
    "print(b[1])\n",
    "print(b[1:])\n",
    "print(b[:-2])"
   ]
  },
  {
   "cell_type": "markdown",
   "metadata": {},
   "source": [
    "NumPy can be used to create multidimensional arrays."
   ]
  },
  {
   "cell_type": "code",
   "execution_count": null,
   "metadata": {},
   "outputs": [],
   "source": [
    "np_2d=np.array([[1, 2, 3],[4, 5, 6],[7, 8, 9]])"
   ]
  }
 ],
 "metadata": {
  "kernelspec": {
   "display_name": "base",
   "language": "python",
   "name": "python3"
  },
  "language_info": {
   "codemirror_mode": {
    "name": "ipython",
    "version": 3
   },
   "file_extension": ".py",
   "mimetype": "text/x-python",
   "name": "python",
   "nbconvert_exporter": "python",
   "pygments_lexer": "ipython3",
   "version": "3.11.7"
  }
 },
 "nbformat": 4,
 "nbformat_minor": 2
}

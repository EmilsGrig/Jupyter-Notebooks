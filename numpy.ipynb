{
 "cells": [
  {
   "cell_type": "code",
   "execution_count": 2,
   "metadata": {},
   "outputs": [],
   "source": [
    "import numpy as np"
   ]
  },
  {
   "cell_type": "markdown",
   "metadata": {},
   "source": [
    "Imports the numpy module.\n",
    "\n",
    "In the code, below there is a small comparison between the NumPy array and the standard python list. Both lists work similar to each other."
   ]
  },
  {
   "cell_type": "code",
   "execution_count": 3,
   "metadata": {},
   "outputs": [
    {
     "name": "stdout",
     "output_type": "stream",
     "text": [
      "--- NumPy Array ---\n",
      "[1 2 3 4 5]\n",
      "<class 'numpy.ndarray'>\n",
      "2\n",
      "[2 3 4 5]\n",
      "[1 2 3] \n",
      "\n",
      "--- Standard Array ---\n",
      "[1, 2, 3, 4, 5]\n",
      "<class 'list'>\n",
      "2\n",
      "[2, 3, 4, 5]\n",
      "[1, 2, 3]\n"
     ]
    }
   ],
   "source": [
    "a = np.array([1,2,3,4,5])\n",
    "print(\"--- NumPy Array ---\")\n",
    "print(a)\n",
    "print(type(a))\n",
    "print(a[1])\n",
    "print(a[1:])\n",
    "print(a[:-2], \"\\n\")\n",
    "\n",
    "b = [1,2,3,4,5,]\n",
    "print(\"--- Standard Array ---\")\n",
    "print(b)\n",
    "print(type(b))\n",
    "print(b[1])\n",
    "print(b[1:])\n",
    "print(b[:-2])"
   ]
  },
  {
   "cell_type": "markdown",
   "metadata": {},
   "source": [
    "NumPy can be used to create multidimensional arrays."
   ]
  },
  {
   "cell_type": "code",
   "execution_count": 10,
   "metadata": {},
   "outputs": [
    {
     "name": "stdout",
     "output_type": "stream",
     "text": [
      "[1 2 3]\n",
      "2\n"
     ]
    }
   ],
   "source": [
    "np_2d=np.array([[1, 2, 3],[4, 5, 6],[7, 8, 9]])\n",
    "np_cast=np.array([[1, 2, 3],[4, 5, 6],[7, 8, 9]], dtype=\"<U7\")# (dtype) Allows to dynamically cast a variable\n",
    "print(np_2d[0])\n",
    "print(np_2d[0][1])"
   ]
  },
  {
   "cell_type": "code",
   "execution_count": 11,
   "metadata": {},
   "outputs": [
    {
     "name": "stdout",
     "output_type": "stream",
     "text": [
      "(3, 3)\n",
      "2\n",
      "9\n",
      "int32\n",
      "<U7\n"
     ]
    }
   ],
   "source": [
    "print(np_2d.shape) # Displays the dimensions\n",
    "print(np_2d.ndim) # Displays depth of dimensions\n",
    "print(np_2d.size) # Displays number of elements\n",
    "print(np_2d.dtype) # Displays data type\n",
    "print(np_cast.dtype)"
   ]
  },
  {
   "cell_type": "markdown",
   "metadata": {},
   "source": [
    "NumPy Documentation: https://numpy.org/doc/"
   ]
  },
  {
   "cell_type": "code",
   "execution_count": 13,
   "metadata": {},
   "outputs": [
    {
     "name": "stdout",
     "output_type": "stream",
     "text": [
      "[[[9 9 9 9]\n",
      "  [9 9 9 9]\n",
      "  [9 9 9 9]]\n",
      "\n",
      " [[9 9 9 9]\n",
      "  [9 9 9 9]\n",
      "  [9 9 9 9]]]\n"
     ]
    }
   ],
   "source": [
    "a = np.full((2,3,4), 9) # Parameters of dimensions, value\n",
    "print(a)"
   ]
  }
 ],
 "metadata": {
  "kernelspec": {
   "display_name": "base",
   "language": "python",
   "name": "python3"
  },
  "language_info": {
   "codemirror_mode": {
    "name": "ipython",
    "version": 3
   },
   "file_extension": ".py",
   "mimetype": "text/x-python",
   "name": "python",
   "nbconvert_exporter": "python",
   "pygments_lexer": "ipython3",
   "version": "3.11.7"
  }
 },
 "nbformat": 4,
 "nbformat_minor": 2
}
